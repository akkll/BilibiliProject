{
 "cells": [
  {
   "cell_type": "code",
   "execution_count": 1,
   "id": "db6ff5b0",
   "metadata": {},
   "outputs": [],
   "source": [
    "%run ../utils/utils.ipynb"
   ]
  },
  {
   "cell_type": "code",
   "execution_count": 2,
   "id": "93cde64d",
   "metadata": {},
   "outputs": [],
   "source": [
    "def like(session, bid, csrf):\n",
    "    av = get_av_from_bv(session, bid)\n",
    "    form_data={\n",
    "        'aid': av,\n",
    "        'like': 1,\n",
    "        'eab_x': 2,\n",
    "        'ramval': 2,\n",
    "        'source': 'web_normal',\n",
    "        'ga': 1,\n",
    "        'csrf': csrf\n",
    "    }\n",
    "    try:\n",
    "        res = session.post('https://api.bilibili.com/x/web-interface/archive/like', data = form_data)\n",
    "        res.encoding='utf-8'\n",
    "        message = json.loads(res.text)\n",
    "        if(message['code']==0):\n",
    "            print('点赞成功')\n",
    "        elif message['code']==65006:\n",
    "            print('已点赞')\n",
    "        elif message['code']==-111:\n",
    "            print('csrf 校验失败')\n",
    "    except:\n",
    "        print('点赞失败')"
   ]
  },
  {
   "cell_type": "code",
   "execution_count": 3,
   "id": "c13d6e73",
   "metadata": {
    "scrolled": true
   },
   "outputs": [
    {
     "name": "stdout",
     "output_type": "stream",
     "text": [
      "111\n",
      "222\n",
      "webdriver对象创建成功\n",
      "登录成功\n",
      "获取session成功\n",
      "获取校验码成功\n",
      "ffad9ac5574466e7a6ae1ad157bf0051\n"
     ]
    }
   ],
   "source": [
    "browser=create_selenium('https://www.bilibili.com/')\n",
    "time.sleep(2)\n",
    "cookies=login(browser)\n",
    "session = get_session(cookies)\n",
    "csrf = get_csrf(session)\n",
    "# like(session, 'BV1Nw411g7Rq', csrf)"
   ]
  },
  {
   "cell_type": "code",
   "execution_count": 4,
   "id": "f94a3f45",
   "metadata": {},
   "outputs": [
    {
     "name": "stdout",
     "output_type": "stream",
     "text": [
      "返回av号368978193\n",
      "已点赞\n",
      "返回av号241958189\n",
      "已点赞\n"
     ]
    }
   ],
   "source": [
    "like(session, 'BV1894y1K7NP', csrf)\n",
    "like(session, 'BV1ee411J7Yg', csrf)"
   ]
  }
 ],
 "metadata": {
  "kernelspec": {
   "display_name": "Python 3 (ipykernel)",
   "language": "python",
   "name": "python3"
  },
  "language_info": {
   "codemirror_mode": {
    "name": "ipython",
    "version": 3
   },
   "file_extension": ".py",
   "mimetype": "text/x-python",
   "name": "python",
   "nbconvert_exporter": "python",
   "pygments_lexer": "ipython3",
   "version": "3.9.18"
  }
 },
 "nbformat": 4,
 "nbformat_minor": 5
}
