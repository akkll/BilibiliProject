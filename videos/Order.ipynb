{
 "cells": [
  {
   "cell_type": "code",
   "execution_count": 1,
   "id": "802a24eb",
   "metadata": {},
   "outputs": [],
   "source": [
    "%run ../utils/utils.ipynb\n",
    "import json\n",
    "import requests"
   ]
  },
  {
   "cell_type": "code",
   "execution_count": 2,
   "id": "83e84bca",
   "metadata": {},
   "outputs": [],
   "source": [
    "def getOrderInfo(session, config):\n",
    "    url='https://show.bilibili.com/api/ticket/project/get?version=134&id='+str(config['projectID'])+'&project_id='+str(config['projectID'])\n",
    "    response = session.get(url)\n",
    "    response.encoding='utf-8'\n",
    "    return response.json()"
   ]
  },
  {
   "cell_type": "code",
   "execution_count": 3,
   "id": "f24e4fd0",
   "metadata": {},
   "outputs": [],
   "source": [
    "def getConfig():\n",
    "    config={}\n",
    "    with open('./config.json', 'r',encoding='utf-8') as file:\n",
    "        config = json.load(file)\n",
    "    return (config)"
   ]
  },
  {
   "cell_type": "code",
   "execution_count": 4,
   "id": "830655d4",
   "metadata": {},
   "outputs": [],
   "source": [
    "def getTicketInfo(json_data, config):\n",
    "    info={}\n",
    "    info['changciID']=json_data['data']['screen_list'][config['changciID']-1]['id']\n",
    "    info['jiageID']=json_data['data']['screen_list'][config['changciID']-1][\"ticket_list\"][config[\"jiageID\"] - 1][\"id\"]\n",
    "    info['price']=json_data[\"data\"][\"screen_list\"][config[\"changciID\"]-1][\"ticket_list\"][config[\"jiageID\"]-1][\"price\"]\n",
    "    return info\n",
    "def getBuyers(session, config):\n",
    "    url='https://show.bilibili.com/api/ticket/buyer/list?is_default&projectId='+str(config['projectID'])\n",
    "    response = session.get(url)\n",
    "    response.encoding='utf-8'\n",
    "    buyers=[]\n",
    "    json_data = response.json()\n",
    "    for i in range(0, config['count']):\n",
    "        info=json_data['data']['list'][i]\n",
    "        info[\"isBuyerInfoVerified\"] = True\n",
    "        info[\"isBuyerValid\"] = True\n",
    "        buyers.append(info)\n",
    "    return buyers"
   ]
  },
  {
   "cell_type": "code",
   "execution_count": 5,
   "id": "9400148f",
   "metadata": {},
   "outputs": [],
   "source": [
    "def getToken(session, config, ticketInfo):\n",
    "    # 获取token\n",
    "    url = 'https://show.bilibili.com/api/ticket/order/prepare?project_id=' + str(config['projectID'])\n",
    "    payload={\n",
    "        'count':config['count'],\n",
    "        'order_type':1,\n",
    "        'project_id':config['projectID'],\n",
    "        'screen_id':ticketInfo['changciID'],\n",
    "        'sku_id':ticketInfo['jiageID'],\n",
    "        'token':''\n",
    "    }\n",
    "    response = session.request(\"POST\",\n",
    "                               url,\n",
    "                               data=payload)\n",
    "    response.encoding='utf-8'\n",
    "    data = response.json()\n",
    "    return data['data']['token']"
   ]
  },
  {
   "cell_type": "code",
   "execution_count": 6,
   "id": "34d9d6ae",
   "metadata": {},
   "outputs": [],
   "source": [
    "def createOrder(session, ticketInfo, buyers, config, token):\n",
    "    url = \"https://show.bilibili.com/api/ticket/order/createV2?project_id=\" + str(config[\"projectID\"])\n",
    "    payload = {\n",
    "        \"buyer_info\": buyers,\n",
    "        \"count\": config[\"count\"],\n",
    "        \"deviceId\": \"\",\n",
    "        \"order_type\": 1,\n",
    "        \"pay_money\": ticketInfo[\"price\"] * config[\"count\"],\n",
    "        \"project_id\": config[\"projectID\"],\n",
    "        \"screen_id\": ticketInfo[\"changciID\"],\n",
    "        \"sku_id\": ticketInfo[\"jiageID\"],\n",
    "        \"timestamp\": int(round(time.time() * 1000)),\n",
    "        \"token\": token,\n",
    "        \"buyer\":config['buyer'],\n",
    "        \"tel\":config['tel']\n",
    "    }\n",
    "    response = session.request(\"POST\",\n",
    "                               url,\n",
    "                               data=payload)\n",
    "    data = response.json()\n",
    "    print(data)\n",
    "    if data[\"errno\"] == 0:\n",
    "        print(\"已成功抢到票, 请尽快支付 https://show.bilibili.com/orderlist\")\n",
    "        exit(0)\n",
    "    elif data[\"errno\"] == 100050:    # Token过期\n",
    "        print(\"Token已过期! 正在重新获取\")\n",
    "        token=getToken(session, config, ticketInfo)\n",
    "        payload['token'] = token\n",
    "        response = session.request(\"POST\",\n",
    "                                   url,\n",
    "                                   data=payload)"
   ]
  },
  {
   "cell_type": "code",
   "execution_count": 7,
   "id": "b82ad867",
   "metadata": {},
   "outputs": [],
   "source": [
    "def flow():\n",
    "    browser=create_selenium('https://www.bilibili.com/')\n",
    "    time.sleep(2)\n",
    "    cookies=login(browser)\n",
    "    session = get_session(cookies)\n",
    "    csrf = get_csrf(session)\n",
    "    config=getConfig()\n",
    "    json_data=getOrderInfo(session, config)\n",
    "    ticketInfo=getTicketInfo(json_data, config)\n",
    "    buyers=getBuyers(session, config)\n",
    "    token=getToken(session, config, ticketInfo)\n",
    "    createOrder(session, ticketInfo, buyers, config, token)"
   ]
  },
  {
   "cell_type": "code",
   "execution_count": 8,
   "id": "958f5b1b",
   "metadata": {},
   "outputs": [],
   "source": [
    "# flow()"
   ]
  },
  {
   "cell_type": "code",
   "execution_count": null,
   "id": "5bd1ae2a",
   "metadata": {},
   "outputs": [],
   "source": [
    "browser=create_selenium('https://www.bilibili.com/')\n",
    "time.sleep(2)\n",
    "cookies=login(browser)\n",
    "session = get_session(cookies)\n",
    "csrf = get_csrf(session)"
   ]
  },
  {
   "cell_type": "code",
   "execution_count": null,
   "id": "33424707",
   "metadata": {},
   "outputs": [],
   "source": [
    "config=getConfig()\n",
    "json_data=getOrderInfo(session, config)\n",
    "ticketInfo=getTicketInfo(json_data, config)\n",
    "buyers=getBuyers(session, config)\n",
    "token=getToken(session, config, ticketInfo)\n",
    "createOrder(session, ticketInfo, buyers, config, token)"
   ]
  }
 ],
 "metadata": {
  "kernelspec": {
   "display_name": "Python 3 (ipykernel)",
   "language": "python",
   "name": "python3"
  },
  "language_info": {
   "codemirror_mode": {
    "name": "ipython",
    "version": 3
   },
   "file_extension": ".py",
   "mimetype": "text/x-python",
   "name": "python",
   "nbconvert_exporter": "python",
   "pygments_lexer": "ipython3",
   "version": "3.9.18"
  }
 },
 "nbformat": 4,
 "nbformat_minor": 5
}
