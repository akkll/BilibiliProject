{
 "cells": [
  {
   "cell_type": "code",
   "execution_count": 1,
   "id": "b89986c2",
   "metadata": {},
   "outputs": [],
   "source": [
    "%run ../utils/utils.ipynb\n",
    "import json\n",
    "import os"
   ]
  },
  {
   "cell_type": "code",
   "execution_count": 2,
   "id": "cfc4772f",
   "metadata": {},
   "outputs": [],
   "source": [
    "def get_sessions(url):\n",
    "    browser=create_selenium('https://www.bilibili.com/')\n",
    "    cookie=login(browser)\n",
    "    session=get_session(cookie)\n",
    "    return session"
   ]
  },
  {
   "cell_type": "code",
   "execution_count": 3,
   "id": "aa0b0a3f",
   "metadata": {},
   "outputs": [],
   "source": [
    "def loginWeb(url):\n",
    "    browser=create_selenium(url)\n",
    "    cookie=login(browser)\n",
    "    session=get_session(cookie)\n",
    "    csrf=get_csrf(session)\n",
    "    res = session.get('https://api.bilibili.com/x/web-interface/nav')\n",
    "    res.encoding = 'utf-8'\n",
    "    user=None\n",
    "    if res.status_code == 200:\n",
    "        # 使用response.json()获取JSON数据\n",
    "        json_data = res.json()\n",
    "        user=json_data['data']['mid']\n",
    "    else:\n",
    "        print('请求失败，状态码：', res.status_code)\n",
    "    return {\n",
    "        'session':session,\n",
    "        'csrf':csrf,\n",
    "        'uid':user\n",
    "    }"
   ]
  },
  {
   "cell_type": "code",
   "execution_count": 4,
   "id": "d5228a26",
   "metadata": {},
   "outputs": [],
   "source": [
    "def get_checkname(filename):\n",
    "    with open(filename, 'r', encoding='utf-8') as file:\n",
    "        # 使用json.load()函数解析JSON文件\n",
    "        data = json.load(file)\n",
    "    return data"
   ]
  },
  {
   "cell_type": "code",
   "execution_count": 5,
   "id": "5a292a3f",
   "metadata": {},
   "outputs": [],
   "source": [
    "def get_zhuanfa_message(message, dongtaiid):\n",
    "    return {\n",
    "        \"dyn_req\": {\n",
    "            \"content\": {\n",
    "                \"contents\": [\n",
    "                    {\n",
    "                        \"raw_text\": message,\n",
    "                        \"type\": 1,\n",
    "                        \"biz_id\": \"\"\n",
    "                    }\n",
    "                ]\n",
    "            },\n",
    "            \"scene\": 4,\n",
    "            \"meta\": {\n",
    "                \"app_meta\": {\n",
    "                    \"from\": \"create.dynamic.web\",\n",
    "                    \"mobi_app\": \"web\"\n",
    "                }\n",
    "            }\n",
    "        },\n",
    "        \"web_repost_src\": {\n",
    "            \"dyn_id_str\": dongtaiid\n",
    "        }\n",
    "    }\n",
    "#\"attach_card\": null,"
   ]
  },
  {
   "cell_type": "code",
   "execution_count": 6,
   "id": "52fbcbc1",
   "metadata": {},
   "outputs": [],
   "source": [
    "def zhuanfa(dongtaiid, message, userInfo):#根据动态id转发动态，message是用户自定义的输入\n",
    "    session = userInfo['session']\n",
    "    url='https://api.bilibili.com/x/dynamic/feed/create/dyn?platform=web&csrf='+userInfo['csrf']\n",
    "    data=get_zhuanfa_message(message, dongtaiid)\n",
    "    response = session.post(url=url,json=data)"
   ]
  },
  {
   "cell_type": "code",
   "execution_count": 7,
   "id": "761fd08a",
   "metadata": {},
   "outputs": [],
   "source": [
    "def get_config():\n",
    "    return get_checkname('config.json')"
   ]
  },
  {
   "cell_type": "code",
   "execution_count": 8,
   "id": "a230f399",
   "metadata": {},
   "outputs": [],
   "source": [
    "def get_timestamp(config, timestamp):\n",
    "    day_delay=config['day_delay']\n",
    "    day=int(day_delay)\n",
    "    timest=day*86400\n",
    "    current_timestamp = int(time.time())\n",
    "    return (int(current_timestamp)-int(timestamp))<timest"
   ]
  },
  {
   "cell_type": "code",
   "execution_count": 9,
   "id": "29b090e2",
   "metadata": {},
   "outputs": [],
   "source": [
    "def get_check_status(userInfo, checkuid):#获取用户uid/查询对象uid.json文件里的内容\n",
    "    user_path=str(userInfo['uid'])\n",
    "    check_path=user_path+'/'+str(checkuid)+'.json'\n",
    "    data=None\n",
    "    if not os.path.exists(user_path):\n",
    "        os.makedirs(user_path, exist_ok=True)\n",
    "    if not os.path.exists(check_path):\n",
    "        with open(check_path, 'w') as file:\n",
    "            file.write('[]')\n",
    "            print('文件创建成功')\n",
    "        data=[]\n",
    "    else:\n",
    "        data=get_checkname(check_path)\n",
    "    return data"
   ]
  },
  {
   "cell_type": "code",
   "execution_count": 10,
   "id": "1d212357",
   "metadata": {},
   "outputs": [],
   "source": [
    "def set_check_status(userInfo, checkuid, data):\n",
    "    user_path=str(userInfo['uid'])\n",
    "    check_path=user_path+'/'+str(checkuid)+'.json'\n",
    "    with open(check_path, 'w', encoding='utf-8') as json_file:\n",
    "        json.dump(data, json_file, ensure_ascii=False, indent=4)"
   ]
  },
  {
   "cell_type": "code",
   "execution_count": 11,
   "id": "bad395c6",
   "metadata": {},
   "outputs": [],
   "source": [
    "def get_dongtais(userInfo, checkuid, dongtaiid):\n",
    "    #实际上只需要session和查询对象uid即可，但是涉及到的api一次只返回十二条数据，如果要继续查询需要用到上一次查询到的最后一条动态的id\n",
    "    url='https://api.bilibili.com/x/polymer/web-dynamic/v1/feed/space?host_mid='+checkuid\n",
    "    data=None\n",
    "    if not dongtaiid==None :\n",
    "        url=url+'&offset='+dongtaiid\n",
    "    session=userInfo['session']\n",
    "    res = session.get(url)\n",
    "    list_data=[]\n",
    "    if res.status_code == 200:\n",
    "        data=res.json()\n",
    "#         if data['code']==0:\n",
    "        for item in data['data']['items']:\n",
    "            text=\"null\"\n",
    "            tag=None\n",
    "            if not item['modules']['module_dynamic']['desc']==None:\n",
    "                text=item['modules']['module_dynamic']['desc']['text']\n",
    "            if 'module_tag' in item['modules']:\n",
    "                tag=item['modules']['module_tag']\n",
    "            list_data.append({\n",
    "                'id':item['id_str'],\n",
    "                'text':text,\n",
    "                'timestamp':item['modules']['module_author']['pub_ts'],\n",
    "                'tag':tag\n",
    "            })\n",
    "#         else:\n",
    "#             print('get_dongtais方法出问题了')\n",
    "    else:\n",
    "        print('get_dongtais方法请求失败，状态码：', res.status_code)\n",
    "    return list_data"
   ]
  },
  {
   "cell_type": "code",
   "execution_count": 12,
   "id": "9b355d16",
   "metadata": {},
   "outputs": [],
   "source": [
    "def check_list(json_data, dongtaiid):#查询这个动态id是否存在用户查询记录里\n",
    "    for item in json_data:\n",
    "        if item['dongtaiid']==dongtaiid:\n",
    "            return item\n",
    "    return None"
   ]
  },
  {
   "cell_type": "code",
   "execution_count": 13,
   "id": "b5d9c70f",
   "metadata": {},
   "outputs": [],
   "source": [
    "def is_zhuanfa(dongtai):#查询是否需要转发\n",
    "    word_list=['抽奖', '转发并评论']\n",
    "    for word in word_list:\n",
    "        if word in dongtai['text']:\n",
    "            return True\n",
    "    return False"
   ]
  },
  {
   "cell_type": "code",
   "execution_count": 2,
   "id": "d479008f",
   "metadata": {},
   "outputs": [],
   "source": [
    "config=get_config()\n",
    "data_form=loginWeb('https://www.bilibili.com/')"
   ]
  },
  {
   "cell_type": "code",
   "execution_count": 1,
   "id": "983cb5d7",
   "metadata": {},
   "outputs": [],
   "source": [
    "config=get_config()\n",
    "check_users=get_checkname(config['check_file_name'])\n",
    "for check_user in check_users:\n",
    "    records = get_check_status(data_form, check_user['uid'])\n",
    "    list_data=[]\n",
    "    dongtaiid=None\n",
    "    flag=1\n",
    "    while flag==1:\n",
    "        dongtai_list=get_dongtais(data_form, check_user['uid'], dongtaiid)\n",
    "        for dongtai in dongtai_list:\n",
    "            dongtaiid=dongtai['id']\n",
    "            if not get_timestamp(config, dongtai['timestamp']):#这里还要判断置顶动态是不是超过7天\n",
    "                if dongtai['tag']==None:\n",
    "                    flag=0\n",
    "                    break\n",
    "            else:\n",
    "                record_dongtai=check_list(records, dongtai['id'])\n",
    "                if not record_dongtai==None:\n",
    "                    list_data.append({\n",
    "                        'dongtaiid':dongtai['id'],\n",
    "                        'status':record_dongtai['status']\n",
    "                    })\n",
    "                    continue\n",
    "                else:\n",
    "                    if is_zhuanfa(dongtai):\n",
    "                        zhuanfa(dongtai['id'], '好好好', data_form)\n",
    "                        list_data.append({\n",
    "                            'dongtaiid':dongtai['id'],\n",
    "                            'status':1\n",
    "                        })\n",
    "                    else:\n",
    "                        list_data.append({\n",
    "                            'dongtaiid':dongtai['id'],\n",
    "                            'status':0\n",
    "                        })\n",
    "    set_check_status(data_form, check_user['uid'], list_data)\n",
    "    print(list_data)\n",
    "        "
   ]
  },
  {
   "cell_type": "code",
   "execution_count": 16,
   "id": "f63a9721",
   "metadata": {},
   "outputs": [],
   "source": [
    "# main\n",
    "# 获取需要查询对象的list\n",
    "# for checkuser in 查询对象的list:\n",
    "#     获取查询记录\n",
    "#     定义list的json用于存储遍历的动态\n",
    "#     获取动态\n",
    "#     while true:\n",
    "#         for item in 动态:\n",
    "#             if item 发布时间超过7天:\n",
    "#                 break\n",
    "#             else:\n",
    "#                 if item存在查询记录里:\n",
    "#                     list.append({\n",
    "#                         'item':item,\n",
    "#                         查询记录['item']['status']\n",
    "#                     })\n",
    "#                     continue\n",
    "#                 else:\n",
    "#                     if item 可以转发:\n",
    "#                         转发\n",
    "#                         list.append({\n",
    "#                             'item':item,\n",
    "#                             'status':1\n",
    "#                         })\n",
    "#                     else:\n",
    "#                         list.append({\n",
    "#                             'item':item,\n",
    "#                             'status':0\n",
    "#                         })\n",
    "#     写入文件"
   ]
  },
  {
   "cell_type": "code",
   "execution_count": 17,
   "id": "0a2864cb",
   "metadata": {},
   "outputs": [],
   "source": [
    "# get_timestamp(config, '1706666157')"
   ]
  }
 ],
 "metadata": {
  "kernelspec": {
   "display_name": "Python 3 (ipykernel)",
   "language": "python",
   "name": "python3"
  },
  "language_info": {
   "codemirror_mode": {
    "name": "ipython",
    "version": 3
   },
   "file_extension": ".py",
   "mimetype": "text/x-python",
   "name": "python",
   "nbconvert_exporter": "python",
   "pygments_lexer": "ipython3",
   "version": "3.9.18"
  }
 },
 "nbformat": 4,
 "nbformat_minor": 5
}
