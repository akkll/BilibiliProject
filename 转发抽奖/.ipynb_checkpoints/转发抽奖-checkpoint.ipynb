{
 "cells": [
  {
   "cell_type": "code",
   "execution_count": 1,
   "id": "b89986c2",
   "metadata": {},
   "outputs": [],
   "source": [
    "%run ../utils/utils.ipynb\n",
    "import json\n",
    "import os"
   ]
  },
  {
   "cell_type": "code",
   "execution_count": 2,
   "id": "cfc4772f",
   "metadata": {},
   "outputs": [],
   "source": [
    "def get_sessions(url):\n",
    "    browser=create_selenium('https://www.bilibili.com/')\n",
    "    cookie=login(browser)\n",
    "    session=get_session(cookie)\n",
    "    return session"
   ]
  },
  {
   "cell_type": "code",
   "execution_count": 3,
   "id": "aa0b0a3f",
   "metadata": {},
   "outputs": [],
   "source": [
    "def loginWeb(url):\n",
    "    browser=create_selenium(url)\n",
    "    cookie=login(browser)\n",
    "    session=get_session(cookie)\n",
    "    csrf=get_csrf(session)\n",
    "    res = session.get('https://api.bilibili.com/x/web-interface/nav')\n",
    "    res.encoding = 'utf-8'\n",
    "    user=None\n",
    "    if res.status_code == 200:\n",
    "        # 使用response.json()获取JSON数据\n",
    "        json_data = res.json()\n",
    "        user=json_data['data']['mid']\n",
    "    else:\n",
    "        print('请求失败，状态码：', res.status_code)\n",
    "    return {\n",
    "        'session':session,\n",
    "        'csrf':csrf,\n",
    "        'uid':user\n",
    "    }"
   ]
  },
  {
   "cell_type": "code",
   "execution_count": 4,
   "id": "d5228a26",
   "metadata": {},
   "outputs": [],
   "source": [
    "def get_checkname(filename):\n",
    "    with open(filename, 'r', encoding='utf-8') as file:\n",
    "        # 使用json.load()函数解析JSON文件\n",
    "        data = json.load(file)\n",
    "    return data"
   ]
  },
  {
   "cell_type": "code",
   "execution_count": 5,
   "id": "5a292a3f",
   "metadata": {},
   "outputs": [],
   "source": [
    "def get_zhuanfa_message(message, dongtaiid):\n",
    "    return {\n",
    "        \"dyn_req\": {\n",
    "            \"content\": {\n",
    "                \"contents\": [\n",
    "                    {\n",
    "                        \"raw_text\": message,\n",
    "                        \"type\": 1,\n",
    "                        \"biz_id\": \"\"\n",
    "                    }\n",
    "                ]\n",
    "            },\n",
    "            \"scene\": 4,\n",
    "            \"meta\": {\n",
    "                \"app_meta\": {\n",
    "                    \"from\": \"create.dynamic.web\",\n",
    "                    \"mobi_app\": \"web\"\n",
    "                }\n",
    "            }\n",
    "        },\n",
    "        \"web_repost_src\": {\n",
    "            \"dyn_id_str\": dongtaiid\n",
    "        }\n",
    "    }\n",
    "#\"attach_card\": null,"
   ]
  },
  {
   "cell_type": "code",
   "execution_count": 6,
   "id": "52fbcbc1",
   "metadata": {},
   "outputs": [],
   "source": [
    "def zhuanfa(dongtaiid, message, userInfo):#根据动态id转发动态，message是用户自定义的输入\n",
    "    session = userInfo['session']\n",
    "    url='https://api.bilibili.com/x/dynamic/feed/create/dyn?platform=web&csrf='+userInfo['csrf']\n",
    "    data=get_zhuanfa_message(message, dongtaiid)\n",
    "    response = session.post(url=url,json=data)"
   ]
  },
  {
   "cell_type": "code",
   "execution_count": 7,
   "id": "761fd08a",
   "metadata": {},
   "outputs": [],
   "source": [
    "def get_config():\n",
    "    return get_checkname('config.json')"
   ]
  },
  {
   "cell_type": "code",
   "execution_count": 8,
   "id": "a230f399",
   "metadata": {},
   "outputs": [],
   "source": [
    "def get_timestamp(config, timestamp):\n",
    "    day_delay=config['day_delay']\n",
    "    day=int(day_delay)\n",
    "    timest=day*86400\n",
    "    current_timestamp = int(time.time())\n",
    "    return (int(current_timestamp)-int(timestamp))<timest"
   ]
  },
  {
   "cell_type": "code",
   "execution_count": 9,
   "id": "29b090e2",
   "metadata": {},
   "outputs": [],
   "source": [
    "def get_check_status(userInfo, checkuid):#获取用户uid/查询对象uid.json文件里的内容\n",
    "    user_path=str(userInfo['uid'])\n",
    "    check_path=user_path+'/'+str(checkuid)+'.json'\n",
    "    data=None\n",
    "    if not os.path.exists(user_path):\n",
    "        os.makedirs(user_path, exist_ok=True)\n",
    "    if not os.path.exists(check_path):\n",
    "        with open(check_path, 'w') as file:\n",
    "            file.write('[]')\n",
    "            print('文件创建成功')\n",
    "        data=[]\n",
    "    else:\n",
    "        data=get_checkname(check_path)\n",
    "    return data"
   ]
  },
  {
   "cell_type": "code",
   "execution_count": 10,
   "id": "1d212357",
   "metadata": {},
   "outputs": [],
   "source": [
    "def set_check_status(userInfo, checkuid, data):\n",
    "    user_path=str(userInfo['uid'])\n",
    "    check_path=user_path+'/'+str(checkuid)+'.json'\n",
    "    with open(check_path, 'w', encoding='utf-8') as json_file:\n",
    "        json.dump(data, json_file, ensure_ascii=False, indent=4)"
   ]
  },
  {
   "cell_type": "code",
   "execution_count": 11,
   "id": "bad395c6",
   "metadata": {},
   "outputs": [],
   "source": [
    "def get_dongtais(userInfo, checkuid, dongtaiid):\n",
    "    #实际上只需要session和查询对象uid即可，但是涉及到的api一次只返回十二条数据，如果要继续查询需要用到上一次查询到的最后一条动态的id\n",
    "    url='https://api.bilibili.com/x/polymer/web-dynamic/v1/feed/space?host_mid='+checkuid\n",
    "    data=None\n",
    "    if not dongtaiid==None :\n",
    "        url=url+'&offset='+dongtaiid\n",
    "    session=userInfo['session']\n",
    "    res = session.get(url)\n",
    "    list_data=[]\n",
    "    if res.status_code == 200:\n",
    "        data=res.json()\n",
    "#         if data['code']==0:\n",
    "        for item in data['data']['items']:\n",
    "            text=\"null\"\n",
    "            tag=None\n",
    "            if not item['modules']['module_dynamic']['desc']==None:\n",
    "                text=item['modules']['module_dynamic']['desc']['text']\n",
    "            if 'module_tag' in item['modules']:\n",
    "                tag=item['modules']['module_tag']\n",
    "            list_data.append({\n",
    "                'id':item['id_str'],\n",
    "                'text':text,\n",
    "                'timestamp':item['modules']['module_author']['pub_ts'],\n",
    "                'tag':tag\n",
    "            })\n",
    "#         else:\n",
    "#             print('get_dongtais方法出问题了')\n",
    "    else:\n",
    "        print('get_dongtais方法请求失败，状态码：', res.status_code)\n",
    "    return list_data"
   ]
  },
  {
   "cell_type": "code",
   "execution_count": 12,
   "id": "9b355d16",
   "metadata": {},
   "outputs": [],
   "source": [
    "def check_list(json_data, dongtaiid):#查询这个动态id是否存在用户查询记录里\n",
    "    for item in json_data:\n",
    "        if item['dongtaiid']==dongtaiid:\n",
    "            return item\n",
    "    return None"
   ]
  },
  {
   "cell_type": "code",
   "execution_count": 13,
   "id": "b5d9c70f",
   "metadata": {},
   "outputs": [],
   "source": [
    "def is_zhuanfa(dongtai):#查询是否需要转发\n",
    "    word_list=['抽奖', '转发并评论']\n",
    "    for word in word_list:\n",
    "        if word in dongtai['text']:\n",
    "            return True\n",
    "    return False"
   ]
  },
  {
   "cell_type": "code",
   "execution_count": 14,
   "id": "d479008f",
   "metadata": {},
   "outputs": [
    {
     "name": "stdout",
     "output_type": "stream",
     "text": [
      "111\n",
      "222\n",
      "webdriver对象创建成功\n",
      "登录成功\n",
      "获取session成功\n",
      "获取校验码成功\n",
      "cd82605226d243fcb187072a120d1af3\n"
     ]
    }
   ],
   "source": [
    "config=get_config()\n",
    "data_form=loginWeb('https://www.bilibili.com/')"
   ]
  },
  {
   "cell_type": "code",
   "execution_count": 18,
   "id": "983cb5d7",
   "metadata": {},
   "outputs": [
    {
     "name": "stdout",
     "output_type": "stream",
     "text": [
      "[{'dongtaiid': '899874340919574548', 'status': 0}, {'dongtaiid': '899874310843269125', 'status': 0}, {'dongtaiid': '899756070415630343', 'status': 0}, {'dongtaiid': '899696022455844950', 'status': 0}, {'dongtaiid': '899499270004015154', 'status': 0}, {'dongtaiid': '899481231182266374', 'status': 0}, {'dongtaiid': '899390633101230118', 'status': 0}, {'dongtaiid': '899390581592031234', 'status': 0}, {'dongtaiid': '899346528114573313', 'status': 0}, {'dongtaiid': '899346489461964816', 'status': 0}, {'dongtaiid': '899282885291278344', 'status': 0}, {'dongtaiid': '899278547366969465', 'status': 0}, {'dongtaiid': '899270807808638981', 'status': 0}, {'dongtaiid': '899127420366356481', 'status': 0}, {'dongtaiid': '899117421679345682', 'status': 0}, {'dongtaiid': '899115991447896100', 'status': 0}, {'dongtaiid': '899098450808799267', 'status': 0}, {'dongtaiid': '899084663970070550', 'status': 0}, {'dongtaiid': '899063365213618181', 'status': 0}, {'dongtaiid': '899063339411308592', 'status': 0}, {'dongtaiid': '898938385965514949', 'status': 0}, {'dongtaiid': '898922928376119432', 'status': 0}, {'dongtaiid': '898917430819029013', 'status': 0}, {'dongtaiid': '898749858340405298', 'status': 0}, {'dongtaiid': '898747530466033664', 'status': 0}, {'dongtaiid': '898710709753348103', 'status': 0}, {'dongtaiid': '898664147971997702', 'status': 0}, {'dongtaiid': '898663795793068054', 'status': 0}, {'dongtaiid': '898637854206328849', 'status': 0}, {'dongtaiid': '898637798356025368', 'status': 0}, {'dongtaiid': '898591863707009073', 'status': 0}, {'dongtaiid': '898591666140610626', 'status': 0}, {'dongtaiid': '898587628843040774', 'status': 0}, {'dongtaiid': '898582762675503442', 'status': 0}, {'dongtaiid': '898577849457311746', 'status': 0}, {'dongtaiid': '898577801989324818', 'status': 0}, {'dongtaiid': '898558869761949747', 'status': 0}, {'dongtaiid': '898558234077429762', 'status': 0}, {'dongtaiid': '898385610786471940', 'status': 0}, {'dongtaiid': '898378098867699712', 'status': 0}, {'dongtaiid': '898370200451153942', 'status': 0}, {'dongtaiid': '898361962926178308', 'status': 0}, {'dongtaiid': '898353505871331383', 'status': 0}, {'dongtaiid': '898347866617020418', 'status': 0}, {'dongtaiid': '898341011812515842', 'status': 0}, {'dongtaiid': '898276711880196130', 'status': 0}, {'dongtaiid': '898276651757994022', 'status': 0}, {'dongtaiid': '898252780333957129', 'status': 0}, {'dongtaiid': '898252737349681156', 'status': 0}, {'dongtaiid': '898211681797144809', 'status': 0}, {'dongtaiid': '898210900072202245', 'status': 0}, {'dongtaiid': '898196219887616064', 'status': 0}, {'dongtaiid': '898180758021079123', 'status': 0}, {'dongtaiid': '898173010134958212', 'status': 0}, {'dongtaiid': '898162405630017538', 'status': 0}, {'dongtaiid': '898162354098798599', 'status': 0}, {'dongtaiid': '898018391083712567', 'status': 0}, {'dongtaiid': '897994596964892694', 'status': 0}, {'dongtaiid': '897986604035997696', 'status': 0}, {'dongtaiid': '897979160841945123', 'status': 0}, {'dongtaiid': '897975067713994761', 'status': 0}, {'dongtaiid': '897966280246558752', 'status': 0}, {'dongtaiid': '897963668869742597', 'status': 0}, {'dongtaiid': '897959391124258817', 'status': 0}, {'dongtaiid': '897955774745018393', 'status': 0}, {'dongtaiid': '897879315748749328', 'status': 0}, {'dongtaiid': '897859262519181315', 'status': 0}, {'dongtaiid': '897840596619624501', 'status': 0}, {'dongtaiid': '897829146463305729', 'status': 0}, {'dongtaiid': '897806438740525077', 'status': 0}, {'dongtaiid': '897806335661309957', 'status': 0}, {'dongtaiid': '897588465085972520', 'status': 0}, {'dongtaiid': '897531578017644546', 'status': 0}, {'dongtaiid': '897531513591037961', 'status': 0}, {'dongtaiid': '897483753558900777', 'status': 0}, {'dongtaiid': '897472393363062824', 'status': 0}, {'dongtaiid': '897248574259069017', 'status': 0}, {'dongtaiid': '896833791865126931', 'status': 0}, {'dongtaiid': '896833723141455896', 'status': 0}, {'dongtaiid': '896735351206314009', 'status': 0}, {'dongtaiid': '896707180483313696', 'status': 0}, {'dongtaiid': '896707081698017296', 'status': 0}, {'dongtaiid': '896523991574904840', 'status': 0}, {'dongtaiid': '896523948619989060', 'status': 0}, {'dongtaiid': '896478353214668832', 'status': 0}, {'dongtaiid': '896478310267093014', 'status': 0}, {'dongtaiid': '896449070164344995', 'status': 0}, {'dongtaiid': '896433595394031637', 'status': 0}, {'dongtaiid': '896387098084376624', 'status': 0}, {'dongtaiid': '896386703171780641', 'status': 0}, {'dongtaiid': '896356255885426793', 'status': 0}, {'dongtaiid': '896346145560723524', 'status': 0}, {'dongtaiid': '896345625865486338', 'status': 0}, {'dongtaiid': '896056256749371427', 'status': 0}, {'dongtaiid': '896016330698784793', 'status': 0}, {'dongtaiid': '895984075533189125', 'status': 0}, {'dongtaiid': '895984015365898278', 'status': 0}, {'dongtaiid': '895809824388808753', 'status': 0}, {'dongtaiid': '895787692449595424', 'status': 0}, {'dongtaiid': '895756695666425862', 'status': 0}, {'dongtaiid': '895392241933090823', 'status': 0}, {'dongtaiid': '895345134723399686', 'status': 0}, {'dongtaiid': '895345087480856601', 'status': 0}, {'dongtaiid': '895323664176644114', 'status': 0}, {'dongtaiid': '895323578266812424', 'status': 0}, {'dongtaiid': '895288265054093385', 'status': 0}, {'dongtaiid': '895288234996662274', 'status': 0}, {'dongtaiid': '895016664184127488', 'status': 0}, {'dongtaiid': '894847343715680262', 'status': 0}, {'dongtaiid': '894847313646714886', 'status': 0}, {'dongtaiid': '894823493762285618', 'status': 0}, {'dongtaiid': '894823459379478547', 'status': 0}, {'dongtaiid': '894670094713487365', 'status': 0}, {'dongtaiid': '894669995913510944', 'status': 0}, {'dongtaiid': '894637959992573961', 'status': 0}, {'dongtaiid': '894637925632835593', 'status': 0}, {'dongtaiid': '894590345758638099', 'status': 0}, {'dongtaiid': '894560375474749440', 'status': 0}, {'dongtaiid': '894500825742704727', 'status': 0}]\n",
      "[{'dongtaiid': '899498535596064774', 'status': 0}, {'dongtaiid': '899446167069261844', 'status': 0}, {'dongtaiid': '899278379834933251', 'status': 0}, {'dongtaiid': '899054770965184537', 'status': 0}, {'dongtaiid': '898880906421338114', 'status': 0}, {'dongtaiid': '898752783252979721', 'status': 0}, {'dongtaiid': '898719544497930260', 'status': 0}, {'dongtaiid': '898576818437619737', 'status': 0}, {'dongtaiid': '898386774728900616', 'status': 0}, {'dongtaiid': '898357044924383234', 'status': 0}, {'dongtaiid': '898280100626169872', 'status': 0}, {'dongtaiid': '898265648022421552', 'status': 0}, {'dongtaiid': '898202606491402246', 'status': 0}, {'dongtaiid': '898190430300012584', 'status': 0}, {'dongtaiid': '898190404489314308', 'status': 0}, {'dongtaiid': '898134363794833441', 'status': 0}, {'dongtaiid': '898024421207310357', 'status': 0}, {'dongtaiid': '898009354460987417', 'status': 0}, {'dongtaiid': '898006824726298672', 'status': 0}, {'dongtaiid': '897998707252789253', 'status': 0}, {'dongtaiid': '897989704999239703', 'status': 0}, {'dongtaiid': '897938474624090131', 'status': 0}, {'dongtaiid': '897897479165444104', 'status': 0}, {'dongtaiid': '897882820443111432', 'status': 0}, {'dongtaiid': '897880685840171027', 'status': 0}, {'dongtaiid': '897880604231598119', 'status': 0}, {'dongtaiid': '897875321430212626', 'status': 0}, {'dongtaiid': '897875278707032064', 'status': 0}, {'dongtaiid': '897869097986949125', 'status': 0}, {'dongtaiid': '897869051004452921', 'status': 0}, {'dongtaiid': '897862702814199856', 'status': 0}, {'dongtaiid': '897862634092625927', 'status': 0}, {'dongtaiid': '897737500216262776', 'status': 0}, {'dongtaiid': '897606632573239380', 'status': 0}, {'dongtaiid': '897606589621469225', 'status': 0}, {'dongtaiid': '897543878767280164', 'status': 0}, {'dongtaiid': '897543844420124688', 'status': 0}, {'dongtaiid': '897436530382995506', 'status': 0}, {'dongtaiid': '897072708008804384', 'status': 0}, {'dongtaiid': '897072643585343495', 'status': 0}, {'dongtaiid': '896702932799455252', 'status': 0}, {'dongtaiid': '896702825409544193', 'status': 0}, {'dongtaiid': '896665424850059272', 'status': 0}, {'dongtaiid': '896507039346327634', 'status': 0}, {'dongtaiid': '896479663443935280', 'status': 0}, {'dongtaiid': '896421002541531143', 'status': 0}, {'dongtaiid': '896417966015381542', 'status': 0}, {'dongtaiid': '896417910180806656', 'status': 0}, {'dongtaiid': '896356294568443968', 'status': 0}, {'dongtaiid': '896343366687522833', 'status': 0}, {'dongtaiid': '896333561279283200', 'status': 0}, {'dongtaiid': '896333526949953539', 'status': 0}, {'dongtaiid': '896316806611861520', 'status': 0}, {'dongtaiid': '896309032721055792', 'status': 0}, {'dongtaiid': '896308951115628569', 'status': 0}, {'dongtaiid': '896199317819228201', 'status': 0}, {'dongtaiid': '895985209402458198', 'status': 0}, {'dongtaiid': '895981318166282277', 'status': 0}, {'dongtaiid': '895981185009713202', 'status': 0}, {'dongtaiid': '895721498417823798', 'status': 0}, {'dongtaiid': '895655931666235409', 'status': 0}, {'dongtaiid': '895600955822702595', 'status': 0}, {'dongtaiid': '895510989181550614', 'status': 0}, {'dongtaiid': '895382153053863936', 'status': 0}, {'dongtaiid': '895323595461361683', 'status': 0}, {'dongtaiid': '895270793104064533', 'status': 0}, {'dongtaiid': '895270664285454343', 'status': 0}, {'dongtaiid': '895214593461190706', 'status': 0}, {'dongtaiid': '895214567719698436', 'status': 0}, {'dongtaiid': '895201072919871492', 'status': 0}, {'dongtaiid': '895200995617800193', 'status': 0}, {'dongtaiid': '894898466712453171', 'status': 0}, {'dongtaiid': '894898397957324868', 'status': 0}, {'dongtaiid': '894871953880383572', 'status': 0}, {'dongtaiid': '894642933332967449', 'status': 0}, {'dongtaiid': '894642868900069400', 'status': 0}, {'dongtaiid': '894574810858782760', 'status': 0}, {'dongtaiid': '894491793402363913', 'status': 0}, {'dongtaiid': '894483203504472085', 'status': 0}, {'dongtaiid': '894472942791950338', 'status': 0}, {'dongtaiid': '894429950204968960', 'status': 0}, {'dongtaiid': '894316666149666819', 'status': 0}]\n"
     ]
    },
    {
     "name": "stdout",
     "output_type": "stream",
     "text": [
      "[{'dongtaiid': '897844444896690433', 'status': 0}, {'dongtaiid': '899848352082952197', 'status': 0}, {'dongtaiid': '899820873122316292', 'status': 0}, {'dongtaiid': '899783545338200067', 'status': 0}, {'dongtaiid': '899708310390833172', 'status': 0}, {'dongtaiid': '899675239109099543', 'status': 0}, {'dongtaiid': '899457355429707811', 'status': 0}, {'dongtaiid': '899457106340478993', 'status': 0}, {'dongtaiid': '899410475861671954', 'status': 0}, {'dongtaiid': '899409604003233813', 'status': 0}, {'dongtaiid': '899347563196448786', 'status': 0}, {'dongtaiid': '899295246199816198', 'status': 0}, {'dongtaiid': '899064271462203394', 'status': 0}, {'dongtaiid': '899064168373551122', 'status': 0}, {'dongtaiid': '899017976006574114', 'status': 0}, {'dongtaiid': '899017482079043606', 'status': 0}, {'dongtaiid': '898949978308739125', 'status': 0}, {'dongtaiid': '898916034942074887', 'status': 0}, {'dongtaiid': '898892004840177795', 'status': 0}, {'dongtaiid': '898727099330723844', 'status': 0}, {'dongtaiid': '898712182887284742', 'status': 0}, {'dongtaiid': '898676689300619273', 'status': 0}, {'dongtaiid': '898590704066887701', 'status': 0}, {'dongtaiid': '898556099742924852', 'status': 0}, {'dongtaiid': '898556047963193346', 'status': 0}, {'dongtaiid': '898516066124169233', 'status': 0}, {'dongtaiid': '898384562823888917', 'status': 0}, {'dongtaiid': '898339955291455545', 'status': 0}, {'dongtaiid': '898294892480954374', 'status': 0}, {'dongtaiid': '898285808598908944', 'status': 0}, {'dongtaiid': '898285769979854949', 'status': 0}, {'dongtaiid': '898181956311711745', 'status': 0}, {'dongtaiid': '898181913340018693', 'status': 0}, {'dongtaiid': '897993527527473184', 'status': 0}, {'dongtaiid': '897988274770935848', 'status': 0}, {'dongtaiid': '897987042121613346', 'status': 0}, {'dongtaiid': '897983670573334531', 'status': 0}, {'dongtaiid': '897977558826483753', 'status': 0}, {'dongtaiid': '897977554540953619', 'status': 0}, {'dongtaiid': '897916870945931298', 'status': 0}, {'dongtaiid': '897916797916807170', 'status': 0}, {'dongtaiid': '897830073951846402', 'status': 0}, {'dongtaiid': '897811176057995298', 'status': 0}, {'dongtaiid': '897811111673331760', 'status': 0}, {'dongtaiid': '897624194655715333', 'status': 0}, {'dongtaiid': '897554130888818711', 'status': 0}, {'dongtaiid': '897534704753836032', 'status': 0}, {'dongtaiid': '897448070967459842', 'status': 0}, {'dongtaiid': '897241100781092951', 'status': 0}, {'dongtaiid': '897175997669965827', 'status': 0}, {'dongtaiid': '897160166389055521', 'status': 1}, {'dongtaiid': '897100986057752595', 'status': 0}, {'dongtaiid': '897079047380533256', 'status': 0}, {'dongtaiid': '897079004415131655', 'status': 0}, {'dongtaiid': '896896820512292869', 'status': 0}, {'dongtaiid': '896863182293827584', 'status': 0}, {'dongtaiid': '896822895532048392', 'status': 0}, {'dongtaiid': '896801429278162979', 'status': 0}, {'dongtaiid': '896801412328980497', 'status': 0}, {'dongtaiid': '896697246247026692', 'status': 0}, {'dongtaiid': '896697147476410374', 'status': 0}, {'dongtaiid': '896521942838804484', 'status': 0}, {'dongtaiid': '896521869861060641', 'status': 0}, {'dongtaiid': '896479208177401904', 'status': 0}, {'dongtaiid': '896433681295474709', 'status': 0}, {'dongtaiid': '896433492281262088', 'status': 0}, {'dongtaiid': '896354005335146529', 'status': 0}, {'dongtaiid': '896353932336431129', 'status': 0}, {'dongtaiid': '896317669938036756', 'status': 0}, {'dongtaiid': '896186664847671317', 'status': 0}, {'dongtaiid': '896167358952898562', 'status': 0}, {'dongtaiid': '896110089873653863', 'status': 0}, {'dongtaiid': '896048444193374233', 'status': 0}, {'dongtaiid': '896048409833635877', 'status': 0}, {'dongtaiid': '895954328589697060', 'status': 0}, {'dongtaiid': '895954302780047401', 'status': 0}, {'dongtaiid': '895746834408931328', 'status': 0}, {'dongtaiid': '895724921725911040', 'status': 0}, {'dongtaiid': '895691008434503736', 'status': 0}, {'dongtaiid': '895616645337186408', 'status': 0}, {'dongtaiid': '895584677936496681', 'status': 0}, {'dongtaiid': '895398860430508054', 'status': 0}, {'dongtaiid': '895372652588302340', 'status': 0}, {'dongtaiid': '895372579525623863', 'status': 0}, {'dongtaiid': '895322908260302880', 'status': 0}, {'dongtaiid': '895259218167201797', 'status': 0}, {'dongtaiid': '895222019485859849', 'status': 0}, {'dongtaiid': '895221985099907111', 'status': 0}, {'dongtaiid': '895011054976761890', 'status': 1}, {'dongtaiid': '894965751674306576', 'status': 0}, {'dongtaiid': '894939513679249411', 'status': 0}, {'dongtaiid': '894880427844567077', 'status': 0}, {'dongtaiid': '894880316142911495', 'status': 0}, {'dongtaiid': '894838753758019624', 'status': 0}, {'dongtaiid': '894642817371996197', 'status': 0}, {'dongtaiid': '894619530023665703', 'status': 0}, {'dongtaiid': '894619353963560961', 'status': 0}, {'dongtaiid': '894570838019276804', 'status': 0}, {'dongtaiid': '894570790772539432', 'status': 0}, {'dongtaiid': '894503733452341254', 'status': 1}, {'dongtaiid': '894456682045767705', 'status': 0}]\n",
      "[{'dongtaiid': '898653380520443912', 'status': 0}, {'dongtaiid': '899812424659501076', 'status': 0}, {'dongtaiid': '899751182759624758', 'status': 0}, {'dongtaiid': '899751126908272641', 'status': 0}, {'dongtaiid': '899705003255529539', 'status': 0}, {'dongtaiid': '899704994672934948', 'status': 0}, {'dongtaiid': '899687539931086866', 'status': 0}, {'dongtaiid': '899472508060696579', 'status': 0}, {'dongtaiid': '899409969079648260', 'status': 1}, {'dongtaiid': '899317189160468577', 'status': 0}, {'dongtaiid': '899112022898114564', 'status': 0}, {'dongtaiid': '899107543259807747', 'status': 0}, {'dongtaiid': '899085664652361734', 'status': 0}, {'dongtaiid': '899050974234017812', 'status': 0}, {'dongtaiid': '898729478732120071', 'status': 0}, {'dongtaiid': '898710829994606601', 'status': 0}, {'dongtaiid': '898628641514061832', 'status': 0}, {'dongtaiid': '898339384018862097', 'status': 0}, {'dongtaiid': '898327478383149129', 'status': 0}, {'dongtaiid': '898299453710008361', 'status': 0}, {'dongtaiid': '898299432268726288', 'status': 0}, {'dongtaiid': '898244877559529494', 'status': 0}, {'dongtaiid': '898244847526215687', 'status': 0}, {'dongtaiid': '898187668607729666', 'status': 0}, {'dongtaiid': '898187514010927107', 'status': 0}, {'dongtaiid': '898164050604589095', 'status': 0}, {'dongtaiid': '898030017538162708', 'status': 0}, {'dongtaiid': '898025576569241600', 'status': 0}, {'dongtaiid': '898024494233288707', 'status': 0}, {'dongtaiid': '898021358906114048', 'status': 0}, {'dongtaiid': '898015685220761616', 'status': 0}, {'dongtaiid': '898015174381797410', 'status': 0}, {'dongtaiid': '898014358107324421', 'status': 0}, {'dongtaiid': '898013902831353875', 'status': 0}, {'dongtaiid': '898011544911085591', 'status': 0}, {'dongtaiid': '897931568313532434', 'status': 0}, {'dongtaiid': '897917914583138342', 'status': 0}, {'dongtaiid': '897917820134752259', 'status': 0}, {'dongtaiid': '897881441744977944', 'status': 0}, {'dongtaiid': '897856870215057433', 'status': 0}, {'dongtaiid': '897797913196888072', 'status': 0}, {'dongtaiid': '897588280139186184', 'status': 0}, {'dongtaiid': '897588220009644037', 'status': 0}, {'dongtaiid': '897166157909327912', 'status': 0}, {'dongtaiid': '896824020786216961', 'status': 0}, {'dongtaiid': '896743211003805702', 'status': 0}, {'dongtaiid': '896475698926977025', 'status': 0}, {'dongtaiid': '896475552928497697', 'status': 0}, {'dongtaiid': '896436597806858256', 'status': 0}, {'dongtaiid': '896436421462589442', 'status': 0}, {'dongtaiid': '896379500256821289', 'status': 0}, {'dongtaiid': '896379225398837267', 'status': 0}, {'dongtaiid': '896297548018352135', 'status': 0}, {'dongtaiid': '896297414872268806', 'status': 0}, {'dongtaiid': '896180699139145769', 'status': 0}, {'dongtaiid': '896179260314615938', 'status': 0}, {'dongtaiid': '896114462119952402', 'status': 0}, {'dongtaiid': '896114316091064360', 'status': 0}, {'dongtaiid': '896077972104020068', 'status': 0}, {'dongtaiid': '896065813050556457', 'status': 0}, {'dongtaiid': '896026462535024672', 'status': 0}, {'dongtaiid': '895696338479480867', 'status': 0}, {'dongtaiid': '895604915789889575', 'status': 0}, {'dongtaiid': '895582672185720835', 'status': 0}, {'dongtaiid': '895325605502910472', 'status': 1}, {'dongtaiid': '895035970052685826', 'status': 0}, {'dongtaiid': '894988102677823507', 'status': 0}, {'dongtaiid': '894624804277059633', 'status': 0}]\n"
     ]
    },
    {
     "name": "stdout",
     "output_type": "stream",
     "text": [
      "[{'dongtaiid': '899522269584293896', 'status': 0}, {'dongtaiid': '899291441093672998', 'status': 0}, {'dongtaiid': '898766011745959960', 'status': 0}, {'dongtaiid': '898765496349884420', 'status': 0}, {'dongtaiid': '898763920061235221', 'status': 0}, {'dongtaiid': '898762970873462793', 'status': 0}, {'dongtaiid': '898762116212719619', 'status': 0}, {'dongtaiid': '898398401178107924', 'status': 0}, {'dongtaiid': '898398014653071397', 'status': 0}, {'dongtaiid': '898397958822690857', 'status': 0}, {'dongtaiid': '898397383297073177', 'status': 0}, {'dongtaiid': '898393736862498816', 'status': 0}, {'dongtaiid': '898393715390808081', 'status': 0}, {'dongtaiid': '898393625160843313', 'status': 0}, {'dongtaiid': '898363367116242953', 'status': 0}, {'dongtaiid': '898020392535326738', 'status': 0}, {'dongtaiid': '897873212599173141', 'status': 0}, {'dongtaiid': '897248621278265361', 'status': 0}, {'dongtaiid': '897084136916779014', 'status': 0}, {'dongtaiid': '896170717593207076', 'status': 0}, {'dongtaiid': '895745533048520706', 'status': 0}, {'dongtaiid': '895744875919573001', 'status': 0}, {'dongtaiid': '895431407955869731', 'status': 0}, {'dongtaiid': '895308275274219522', 'status': 0}, {'dongtaiid': '895281242752155669', 'status': 0}, {'dongtaiid': '895280955020804103', 'status': 0}, {'dongtaiid': '895280504050286631', 'status': 0}, {'dongtaiid': '894906193355472946', 'status': 0}, {'dongtaiid': '894626058407510039', 'status': 0}, {'dongtaiid': '894626019720298496', 'status': 0}]\n",
      "[{'dongtaiid': '899778472982872281', 'status': 0}, {'dongtaiid': '899768444221653014', 'status': 0}, {'dongtaiid': '899758625921171478', 'status': 0}, {'dongtaiid': '899757719691460614', 'status': 0}, {'dongtaiid': '899757487763226680', 'status': 0}, {'dongtaiid': '899701455587377176', 'status': 0}, {'dongtaiid': '899108483849256967', 'status': 0}, {'dongtaiid': '898888594372952067', 'status': 0}, {'dongtaiid': '898888048940417041', 'status': 0}, {'dongtaiid': '898718303250284564', 'status': 0}, {'dongtaiid': '898712788514373668', 'status': 0}, {'dongtaiid': '898619351464148995', 'status': 0}, {'dongtaiid': '898562314328866823', 'status': 0}, {'dongtaiid': '898383609561350241', 'status': 0}, {'dongtaiid': '898378348004114449', 'status': 0}, {'dongtaiid': '898376170456743936', 'status': 0}, {'dongtaiid': '897962779852406786', 'status': 0}, {'dongtaiid': '897961276611756055', 'status': 0}, {'dongtaiid': '897960907250860052', 'status': 0}, {'dongtaiid': '897954786910928902', 'status': 0}, {'dongtaiid': '897954421806202904', 'status': 0}, {'dongtaiid': '897954344540831765', 'status': 0}, {'dongtaiid': '897103571628064773', 'status': 0}, {'dongtaiid': '897037850015432706', 'status': 0}, {'dongtaiid': '896859866607386626', 'status': 0}, {'dongtaiid': '896853071956541448', 'status': 0}, {'dongtaiid': '896852728370692099', 'status': 0}, {'dongtaiid': '896852230142951431', 'status': 0}, {'dongtaiid': '896326513249484838', 'status': 0}, {'dongtaiid': '896325495362158597', 'status': 0}, {'dongtaiid': '895985170711052355', 'status': 0}, {'dongtaiid': '895948749428228096', 'status': 0}, {'dongtaiid': '895947869183279113', 'status': 0}, {'dongtaiid': '895721107555876901', 'status': 0}, {'dongtaiid': '895335651435610136', 'status': 0}, {'dongtaiid': '895273159621607424', 'status': 0}, {'dongtaiid': '895208163915071542', 'status': 0}, {'dongtaiid': '895207605568274454', 'status': 0}, {'dongtaiid': '895207455212961813', 'status': 0}, {'dongtaiid': '894931980345409553', 'status': 0}, {'dongtaiid': '894874204440100889', 'status': 0}, {'dongtaiid': '894850281465970712', 'status': 0}, {'dongtaiid': '894630795761680390', 'status': 0}, {'dongtaiid': '894629859422109698', 'status': 0}, {'dongtaiid': '894618035409649682', 'status': 0}, {'dongtaiid': '894617880756224001', 'status': 0}, {'dongtaiid': '894616334592114697', 'status': 0}, {'dongtaiid': '894583357818535961', 'status': 0}]\n",
      "[{'dongtaiid': '899547923415564310', 'status': 0}, {'dongtaiid': '899396293875466240', 'status': 0}, {'dongtaiid': '899156978289344528', 'status': 0}, {'dongtaiid': '899149303205855280', 'status': 0}, {'dongtaiid': '899141791283937282', 'status': 0}, {'dongtaiid': '899136676002005012', 'status': 0}, {'dongtaiid': '899131917191872545', 'status': 0}, {'dongtaiid': '899128597408645139', 'status': 0}, {'dongtaiid': '899115695096201256', 'status': 0}, {'dongtaiid': '899112795989082149', 'status': 0}, {'dongtaiid': '899111782376800292', 'status': 0}, {'dongtaiid': '899102329138053137', 'status': 0}, {'dongtaiid': '899098304765231107', 'status': 0}, {'dongtaiid': '899096934687440953', 'status': 0}, {'dongtaiid': '899082679689936918', 'status': 0}, {'dongtaiid': '898752353756250130', 'status': 0}, {'dongtaiid': '898750455339810816', 'status': 0}, {'dongtaiid': '898749248492797972', 'status': 0}, {'dongtaiid': '898377901329612817', 'status': 0}, {'dongtaiid': '898024906777690150', 'status': 0}, {'dongtaiid': '898024824951013383', 'status': 0}, {'dongtaiid': '897130123132665875', 'status': 0}, {'dongtaiid': '897130007168548872', 'status': 0}, {'dongtaiid': '895622976164069384', 'status': 1}, {'dongtaiid': '895466158305574960', 'status': 0}]\n"
     ]
    },
    {
     "ename": "KeyError",
     "evalue": "'data'",
     "output_type": "error",
     "traceback": [
      "\u001b[1;31m---------------------------------------------------------------------------\u001b[0m",
      "\u001b[1;31mKeyError\u001b[0m                                  Traceback (most recent call last)",
      "Cell \u001b[1;32mIn[18], line 9\u001b[0m\n\u001b[0;32m      7\u001b[0m flag\u001b[38;5;241m=\u001b[39m\u001b[38;5;241m1\u001b[39m\n\u001b[0;32m      8\u001b[0m \u001b[38;5;28;01mwhile\u001b[39;00m flag\u001b[38;5;241m==\u001b[39m\u001b[38;5;241m1\u001b[39m:\n\u001b[1;32m----> 9\u001b[0m     dongtai_list\u001b[38;5;241m=\u001b[39m\u001b[43mget_dongtais\u001b[49m\u001b[43m(\u001b[49m\u001b[43mdata_form\u001b[49m\u001b[43m,\u001b[49m\u001b[43m \u001b[49m\u001b[43mcheck_user\u001b[49m\u001b[43m[\u001b[49m\u001b[38;5;124;43m'\u001b[39;49m\u001b[38;5;124;43muid\u001b[39;49m\u001b[38;5;124;43m'\u001b[39;49m\u001b[43m]\u001b[49m\u001b[43m,\u001b[49m\u001b[43m \u001b[49m\u001b[43mdongtaiid\u001b[49m\u001b[43m)\u001b[49m\n\u001b[0;32m     10\u001b[0m     \u001b[38;5;28;01mfor\u001b[39;00m dongtai \u001b[38;5;129;01min\u001b[39;00m dongtai_list:\n\u001b[0;32m     11\u001b[0m         dongtaiid\u001b[38;5;241m=\u001b[39mdongtai[\u001b[38;5;124m'\u001b[39m\u001b[38;5;124mid\u001b[39m\u001b[38;5;124m'\u001b[39m]\n",
      "Cell \u001b[1;32mIn[11], line 13\u001b[0m, in \u001b[0;36mget_dongtais\u001b[1;34m(userInfo, checkuid, dongtaiid)\u001b[0m\n\u001b[0;32m     11\u001b[0m         data\u001b[38;5;241m=\u001b[39mres\u001b[38;5;241m.\u001b[39mjson()\n\u001b[0;32m     12\u001b[0m \u001b[38;5;66;03m#         if data['code']==0:\u001b[39;00m\n\u001b[1;32m---> 13\u001b[0m         \u001b[38;5;28;01mfor\u001b[39;00m item \u001b[38;5;129;01min\u001b[39;00m \u001b[43mdata\u001b[49m\u001b[43m[\u001b[49m\u001b[38;5;124;43m'\u001b[39;49m\u001b[38;5;124;43mdata\u001b[39;49m\u001b[38;5;124;43m'\u001b[39;49m\u001b[43m]\u001b[49m[\u001b[38;5;124m'\u001b[39m\u001b[38;5;124mitems\u001b[39m\u001b[38;5;124m'\u001b[39m]:\n\u001b[0;32m     14\u001b[0m             text\u001b[38;5;241m=\u001b[39m\u001b[38;5;124m\"\u001b[39m\u001b[38;5;124mnull\u001b[39m\u001b[38;5;124m\"\u001b[39m\n\u001b[0;32m     15\u001b[0m             tag\u001b[38;5;241m=\u001b[39m\u001b[38;5;28;01mNone\u001b[39;00m\n",
      "\u001b[1;31mKeyError\u001b[0m: 'data'"
     ]
    }
   ],
   "source": [
    "config=get_config()\n",
    "check_users=get_checkname(config['check_file_name'])\n",
    "for check_user in check_users:\n",
    "    records = get_check_status(data_form, check_user['uid'])\n",
    "    list_data=[]\n",
    "    dongtaiid=None\n",
    "    flag=1\n",
    "    while flag==1:\n",
    "        dongtai_list=get_dongtais(data_form, check_user['uid'], dongtaiid)\n",
    "        for dongtai in dongtai_list:\n",
    "            dongtaiid=dongtai['id']\n",
    "            if not get_timestamp(config, dongtai['timestamp']):#这里还要判断置顶动态是不是超过7天\n",
    "                if dongtai['tag']==None:\n",
    "                    flag=0\n",
    "                    break\n",
    "            else:\n",
    "                record_dongtai=check_list(records, dongtai['id'])\n",
    "                if not record_dongtai==None:\n",
    "                    list_data.append({\n",
    "                        'dongtaiid':dongtai['id'],\n",
    "                        'status':record_dongtai['status']\n",
    "                    })\n",
    "                    continue\n",
    "                else:\n",
    "                    if is_zhuanfa(dongtai):\n",
    "                        zhuanfa(dongtai['id'], '好好好', data_form)\n",
    "                        list_data.append({\n",
    "                            'dongtaiid':dongtai['id'],\n",
    "                            'status':1\n",
    "                        })\n",
    "                    else:\n",
    "                        list_data.append({\n",
    "                            'dongtaiid':dongtai['id'],\n",
    "                            'status':0\n",
    "                        })\n",
    "    set_check_status(data_form, check_user['uid'], list_data)\n",
    "    print(list_data)\n",
    "        "
   ]
  },
  {
   "cell_type": "code",
   "execution_count": 16,
   "id": "f63a9721",
   "metadata": {},
   "outputs": [],
   "source": [
    "# main\n",
    "# 获取需要查询对象的list\n",
    "# for checkuser in 查询对象的list:\n",
    "#     获取查询记录\n",
    "#     定义list的json用于存储遍历的动态\n",
    "#     获取动态\n",
    "#     while true:\n",
    "#         for item in 动态:\n",
    "#             if item 发布时间超过7天:\n",
    "#                 break\n",
    "#             else:\n",
    "#                 if item存在查询记录里:\n",
    "#                     list.append({\n",
    "#                         'item':item,\n",
    "#                         查询记录['item']['status']\n",
    "#                     })\n",
    "#                     continue\n",
    "#                 else:\n",
    "#                     if item 可以转发:\n",
    "#                         转发\n",
    "#                         list.append({\n",
    "#                             'item':item,\n",
    "#                             'status':1\n",
    "#                         })\n",
    "#                     else:\n",
    "#                         list.append({\n",
    "#                             'item':item,\n",
    "#                             'status':0\n",
    "#                         })\n",
    "#     写入文件"
   ]
  },
  {
   "cell_type": "code",
   "execution_count": 17,
   "id": "0a2864cb",
   "metadata": {},
   "outputs": [],
   "source": [
    "# get_timestamp(config, '1706666157')"
   ]
  }
 ],
 "metadata": {
  "kernelspec": {
   "display_name": "Python 3 (ipykernel)",
   "language": "python",
   "name": "python3"
  },
  "language_info": {
   "codemirror_mode": {
    "name": "ipython",
    "version": 3
   },
   "file_extension": ".py",
   "mimetype": "text/x-python",
   "name": "python",
   "nbconvert_exporter": "python",
   "pygments_lexer": "ipython3",
   "version": "3.9.18"
  }
 },
 "nbformat": 4,
 "nbformat_minor": 5
}
