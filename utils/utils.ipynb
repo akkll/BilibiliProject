{
 "cells": [
  {
   "cell_type": "code",
   "execution_count": 1,
   "id": "69dafc2a",
   "metadata": {},
   "outputs": [],
   "source": [
    "from selenium import webdriver\n",
    "import time\n",
    "from selenium.webdriver.common.by import By\n",
    "from selenium.webdriver.common.action_chains import ActionChains\n",
    "from selenium.webdriver.support.ui import WebDriverWait\n",
    "from selenium.webdriver.support import expected_conditions as EC\n",
    "import json\n",
    "import requests"
   ]
  },
  {
   "cell_type": "code",
   "execution_count": 2,
   "id": "5153656e",
   "metadata": {},
   "outputs": [],
   "source": [
    "def create_selenium(url):\n",
    "    try:\n",
    "        print('111')\n",
    "        browser = webdriver.Chrome()\n",
    "        print('222')\n",
    "        browser.get(url)\n",
    "        print('webdriver对象创建成功')\n",
    "        return browser\n",
    "    except:\n",
    "        print('webdriver对象创建失败')\n",
    "        return None"
   ]
  },
  {
   "cell_type": "code",
   "execution_count": 3,
   "id": "be71dd0b",
   "metadata": {},
   "outputs": [],
   "source": [
    "def login(browser):# 返回cookies\n",
    "    try:\n",
    "        button = browser.find_element(By.XPATH, '//*[@id=\"i_cecream\"]/div[2]/div[1]/div[1]/ul[2]/li[1]/li/div[1]/div')\n",
    "        ActionChains(browser).click(button).perform()\n",
    "        wait = WebDriverWait(browser, 60)\n",
    "        wait.until(EC.presence_of_element_located((By.XPATH, '//*[@id=\"i_cecream\"]/div[2]/div[1]/div[1]/ul[2]/li[1]/div[1]/a[1]')))\n",
    "        cookies=browser.get_cookies()\n",
    "        print('登录成功')\n",
    "    except:\n",
    "        print('登录失败')\n",
    "    browser.close()\n",
    "    return cookies"
   ]
  },
  {
   "cell_type": "code",
   "execution_count": 4,
   "id": "7eb8f620",
   "metadata": {},
   "outputs": [],
   "source": [
    "def get_session(cookies):# 获取带有cookie的session\n",
    "    session = requests.Session()\n",
    "    headers = {\n",
    "        'User-Agent': \"Mozilla/5.0 (Windows NT 10.0; Win64; x64) AppleWebKit/537.36 (KHTML, like Gecko) Chrome/89.0.4389.114 Safari/537.36\",\n",
    "    }\n",
    "    session.headers.update(headers)\n",
    "    for cookie in cookies:\n",
    "        session.cookies.set(cookie['name'], cookie['value'])\n",
    "    print('获取session成功')\n",
    "    return session"
   ]
  },
  {
   "cell_type": "code",
   "execution_count": 5,
   "id": "83c04e10",
   "metadata": {},
   "outputs": [],
   "source": [
    "def get_csrf(session):\n",
    "    cookies = session.cookies\n",
    "    for cookie in cookies:\n",
    "        if cookie.name=='bili_jct':\n",
    "            print('获取校验码成功')\n",
    "            print(cookie.value)\n",
    "            return cookie.value"
   ]
  },
  {
   "cell_type": "code",
   "execution_count": 6,
   "id": "3a7d391e",
   "metadata": {
    "scrolled": false
   },
   "outputs": [],
   "source": [
    "def get_av_from_bv(session, bid): #根据bv获取av\n",
    "    res = session.get('https://api.bilibili.com/x/web-interface/view?bvid='+bid)\n",
    "    res.encoding='utf-8'\n",
    "    datas = res.text\n",
    "    datas = json.loads(datas)\n",
    "    print('返回av号'+str(datas['data']['aid']))\n",
    "    return datas['data']['aid']"
   ]
  },
  {
   "cell_type": "code",
   "execution_count": null,
   "id": "1add87c7",
   "metadata": {},
   "outputs": [
    {
     "name": "stdout",
     "output_type": "stream",
     "text": [
      "111\n"
     ]
    }
   ],
   "source": [
    "# create_selenium('https://www.bilibili.com')"
   ]
  }
 ],
 "metadata": {
  "kernelspec": {
   "display_name": "Python 3 (ipykernel)",
   "language": "python",
   "name": "python3"
  },
  "language_info": {
   "codemirror_mode": {
    "name": "ipython",
    "version": 3
   },
   "file_extension": ".py",
   "mimetype": "text/x-python",
   "name": "python",
   "nbconvert_exporter": "python",
   "pygments_lexer": "ipython3",
   "version": "3.9.18"
  }
 },
 "nbformat": 4,
 "nbformat_minor": 5
}
